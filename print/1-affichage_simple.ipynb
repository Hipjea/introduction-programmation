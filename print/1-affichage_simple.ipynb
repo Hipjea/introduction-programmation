{
 "cells": [
  {
   "attachments": {},
   "cell_type": "markdown",
   "metadata": {},
   "source": [
    "# Print\n",
    "\n",
    "Réaliser un affichage simple :"
   ]
  },
  {
   "cell_type": "code",
   "execution_count": null,
   "metadata": {},
   "outputs": [],
   "source": [
    "print(\"Bonjour\")"
   ]
  },
  {
   "attachments": {},
   "cell_type": "markdown",
   "metadata": {},
   "source": [
    "Afficher la valeur d'une variable :"
   ]
  },
  {
   "cell_type": "code",
   "execution_count": null,
   "metadata": {},
   "outputs": [],
   "source": [
    "salutation = \"Bonjour\"\n",
    "print(salutation)"
   ]
  },
  {
   "attachments": {},
   "cell_type": "markdown",
   "metadata": {},
   "source": [
    "Afficher la valeur de plusieurs variables :"
   ]
  },
  {
   "cell_type": "code",
   "execution_count": null,
   "metadata": {},
   "outputs": [],
   "source": [
    "# Enchaînement de paramètres dans print()\n",
    "nom = \"utilisateur\"\n",
    "print(salutation, \",\", nom)\n",
    "\n",
    "# En utilisant l'opérateur + pour éviter les ajouts automatiques d'espaces entre les variables\n",
    "print(salutation + \", \" + nom)"
   ]
  }
 ],
 "metadata": {
  "language_info": {
   "name": "python"
  },
  "orig_nbformat": 4
 },
 "nbformat": 4,
 "nbformat_minor": 2
}
