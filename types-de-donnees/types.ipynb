{
 "cells": [
  {
   "attachments": {},
   "cell_type": "markdown",
   "metadata": {},
   "source": [
    "Python est un langage *dynamique*, c'est à dire que l'on peut modifier le type d'une variable après sa déclaration."
   ]
  },
  {
   "cell_type": "code",
   "execution_count": null,
   "metadata": {},
   "outputs": [],
   "source": [
    "i = \"bonjour\"\n",
    "print(type(i))\n",
    "# <class 'str'>\n",
    "\n",
    "i = 10\n",
    "print(type(i))\n",
    "# <class 'int'>"
   ]
  },
  {
   "attachments": {},
   "cell_type": "markdown",
   "metadata": {},
   "source": [
    "À la ligne 5 du programme ci-dessus, on écrase la valeur de la variable `i`, contenant initialement une chaîne de caractères (`\"bonjour\"`) au profit d'un entier (`10`).\n",
    "\n",
    "L'affichage de la fonction `type()` nous renvoit le type de données que stocke la variable `i`."
   ]
  },
  {
   "attachments": {},
   "cell_type": "markdown",
   "metadata": {},
   "source": [
    "Les principaux types de données à connaître pour débuter :\n",
    "\n",
    "| Nom | Nom anglais | Type | Exemple |\n",
    "|----------------------|-------------|------|-----|\n",
    "| Entier | Integer | `int` | `10` |\n",
    "| Réel | Float | `float` | `10.0` |\n",
    "| Chaîne de caractères | String | `str` | `\"bonjour\"` |\n",
    "| Booléen | Boolean | `bool` | `True`, `False` |"
   ]
  },
  {
   "attachments": {},
   "cell_type": "markdown",
   "metadata": {},
   "source": [
    "On peut laisser Python utiliser l'*inflexion* pour déterminer par lui-même le type de données le plus approprié d'un variable :"
   ]
  },
  {
   "cell_type": "code",
   "execution_count": null,
   "metadata": {},
   "outputs": [],
   "source": [
    "ma_variable = 10\n",
    "# <class 'int'>"
   ]
  },
  {
   "attachments": {},
   "cell_type": "markdown",
   "metadata": {},
   "source": [
    "On peut également utiliser les fonctions de *casting* pour modifier le type d'une valeur :"
   ]
  },
  {
   "cell_type": "code",
   "execution_count": null,
   "metadata": {},
   "outputs": [],
   "source": [
    "ma_variable = float(10)\n",
    "# <class 'float'>"
   ]
  },
  {
   "attachments": {},
   "cell_type": "markdown",
   "metadata": {},
   "source": [
    "Dans l'exemple ci-dessus, on convertit la valeur `10` que Python déclarera automatiquement comme un entier (int) en un nombre réel, par l'utilisation du cast `float()`.\n",
    "\n",
    "La valeur de `ma_variable` devient donc `10.0`"
   ]
  },
  {
   "cell_type": "markdown",
   "metadata": {},
   "source": []
  }
 ],
 "metadata": {
  "language_info": {
   "name": "python"
  },
  "orig_nbformat": 4
 },
 "nbformat": 4,
 "nbformat_minor": 2
}
