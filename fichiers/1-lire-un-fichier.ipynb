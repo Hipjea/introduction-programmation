{
 "cells": [
  {
   "cell_type": "markdown",
   "metadata": {},
   "source": [
    "# Ouverture d'un fichier en lecture :\n",
    "\n",
    "On utilise la fonction native `open()` avec un mode d'ouverture de fichier :\n",
    "\n",
    "|Caractère|Signification|\n",
    "|---------|-------------|\n",
    "|'r'|lecture (par défaut)|\n",
    "|'w'|écriture (efface le contenu du fichier)|\n",
    "|'x'|création du fichier uniquement|\n",
    "|'a'|écriture en ajout à la fin du fichier|\n",
    "|'+'|lecture et écriture|\n",
    "\n",
    "[https://docs.python.org/fr/3/library/functions.html?highlight=open#open](https://docs.python.org/fr/3/library/functions.html?highlight=open#open)"
   ]
  },
  {
   "cell_type": "code",
   "execution_count": null,
   "metadata": {},
   "outputs": [],
   "source": [
    "# Exemples\n",
    "\n",
    "# Pour un fichier situé dans le répertoire courant, dans le dossier \"chemin/vers-le/\" :\n",
    "fichier = open(\"./chemin/vers-le/fichier.txt\")\n",
    "\n",
    "# Pour un fichier situé sur le bureau avec le chemin absolu (en partant de la racine) :\n",
    "fichier = open(\"C:/Users/nom_utilisateur/Desktop/fichier.txt\")\n",
    "\n",
    "# En lecture seule :\n",
    "fichier = open(\"./chemin/vers-le/fichier.txt\", \"r\")\n",
    "\n",
    "# En écriture :\n",
    "fichier = open(\"./chemin/vers-le/fichier.txt\", \"w\")\n",
    "\n",
    "# En mode \"append\" :\n",
    "fichier = open(\"./chemin/vers-le/fichier.txt\", \"a\")"
   ]
  },
  {
   "cell_type": "code",
   "execution_count": null,
   "metadata": {},
   "outputs": [],
   "source": [
    "# Lecture d'un fichier existant :\n",
    "\n",
    "fichier_films = open(\"./films.txt\", \"r\")\n",
    "lignes = fichier_films.readlines()\n",
    "\n",
    "print(lignes)"
   ]
  },
  {
   "cell_type": "code",
   "execution_count": null,
   "metadata": {},
   "outputs": [],
   "source": [
    "# Lecture des lignes d'fichier existant :\n",
    "\n",
    "fichier_films = open(\"./films.txt\", \"r\")\n",
    "lignes = fichier_films.readlines()\n",
    "\n",
    "for ligne in lignes:\n",
    "  print(ligne)"
   ]
  },
  {
   "cell_type": "code",
   "execution_count": null,
   "metadata": {},
   "outputs": [],
   "source": [
    "# Retrait du caractère de retour à la ligne de l'affichage :\n",
    "# le caractère de retour à la ligne est représenté par \\n\n",
    "\n",
    "fichier_films = open(\"./films.txt\", \"r\")\n",
    "lignes = fichier_films.readlines()\n",
    "\n",
    "for ligne in lignes:\n",
    "  print(ligne.strip(\"\\n\")) # on utilise la méthode strip() avec le paramètre \\n"
   ]
  }
 ],
 "metadata": {
  "kernelspec": {
   "display_name": "Python 3",
   "language": "python",
   "name": "python3"
  },
  "language_info": {
   "codemirror_mode": {
    "name": "ipython",
    "version": 3
   },
   "file_extension": ".py",
   "mimetype": "text/x-python",
   "name": "python",
   "nbconvert_exporter": "python",
   "pygments_lexer": "ipython3",
   "version": "3.11.5"
  },
  "orig_nbformat": 4
 },
 "nbformat": 4,
 "nbformat_minor": 2
}
