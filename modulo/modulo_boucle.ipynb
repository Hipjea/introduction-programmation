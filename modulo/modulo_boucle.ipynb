{
 "cells": [
  {
   "attachments": {},
   "cell_type": "markdown",
   "metadata": {},
   "source": [
    "Utilisation d'une boucle pour déterminer si le nombre est pair ou impair :"
   ]
  },
  {
   "cell_type": "code",
   "execution_count": null,
   "metadata": {},
   "outputs": [],
   "source": [
    "valeur_maximale = 20\n",
    "\n",
    "for number in range(0, valeur_maximale):\n",
    "    if number % 2 == 0:\n",
    "        print(number, \"% 2 =\", number % 2, \": pair\")\n",
    "    else:\n",
    "        print(number, \"% 2 =\", number % 2, \": impair\")\n"
   ]
  },
  {
   "cell_type": "markdown",
   "metadata": {},
   "source": []
  }
 ],
 "metadata": {
  "language_info": {
   "name": "python"
  },
  "orig_nbformat": 4
 },
 "nbformat": 4,
 "nbformat_minor": 2
}
