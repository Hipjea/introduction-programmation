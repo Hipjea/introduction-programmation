{
 "cells": [
  {
   "cell_type": "code",
   "execution_count": null,
   "metadata": {},
   "outputs": [],
   "source": [
    "def pair_ou_impair(n):\n",
    "    # Fonction qui retourne la chaîne \"pair\" ou \"impair\"\n",
    "    # selon la valeur de la variable n\n",
    "    if n % 2 == 0:\n",
    "        return \"pair\"\n",
    "    else:\n",
    "        return \"impair\""
   ]
  },
  {
   "attachments": {},
   "cell_type": "markdown",
   "metadata": {},
   "source": [
    "Appel de la fonction `pair_ou_impair()` avec la valeur `1` comme paramètre"
   ]
  },
  {
   "cell_type": "code",
   "execution_count": null,
   "metadata": {},
   "outputs": [],
   "source": [
    "valeur1 = pair_ou_impair(1)\n",
    "print(1, valeur1)"
   ]
  },
  {
   "attachments": {},
   "cell_type": "markdown",
   "metadata": {},
   "source": [
    "Appel de la fonction `pair_ou_impair()` avec la valeur `2` comme paramètre"
   ]
  },
  {
   "cell_type": "code",
   "execution_count": null,
   "metadata": {},
   "outputs": [],
   "source": [
    "valeur2 = pair_ou_impair(2)\n",
    "print(2, valeur2)"
   ]
  },
  {
   "attachments": {},
   "cell_type": "markdown",
   "metadata": {},
   "source": [
    "#### Pour aller plus loin :\n",
    "\n",
    "On peut optimiser la fonction en s'affranchissant de la clause `else` qui n'est pas nécessaire dans ce cas.\n",
    "L'instruction `return` met fin à l'exécution de la fonction, on peut donc partir du principe que lorsqu'on\n",
    "atteint return \"pair\", on sort de la fonction. Ce qui nous permet d'optimiser la fonction comme ceci :"
   ]
  },
  {
   "cell_type": "code",
   "execution_count": null,
   "metadata": {},
   "outputs": [],
   "source": [
    "def pair_ou_impair(n):\n",
    "    if n % 2 == 0:\n",
    "        return \"pair\"\n",
    "    return \"impair\""
   ]
  },
  {
   "attachments": {},
   "cell_type": "markdown",
   "metadata": {},
   "source": [
    "Le second return \"impair\" est implicitement la condition `else`. On ne l'atteint que lorsque `n` est impair."
   ]
  }
 ],
 "metadata": {
  "language_info": {
   "name": "python"
  },
  "orig_nbformat": 4
 },
 "nbformat": 4,
 "nbformat_minor": 2
}
