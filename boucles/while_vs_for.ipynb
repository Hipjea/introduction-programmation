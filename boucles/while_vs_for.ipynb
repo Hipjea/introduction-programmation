{
 "cells": [
  {
   "attachments": {},
   "cell_type": "markdown",
   "metadata": {},
   "source": [
    "Les 2 programmes ci-dessous sont équivalents :"
   ]
  },
  {
   "cell_type": "code",
   "execution_count": null,
   "metadata": {},
   "outputs": [],
   "source": [
    "mot = \"bonjour\"\n",
    "\n",
    "for lettre in mot :\n",
    "  print(lettre)"
   ]
  },
  {
   "cell_type": "code",
   "execution_count": null,
   "metadata": {},
   "outputs": [],
   "source": [
    "mot = \"bonjour\"\n",
    "i = 0\n",
    "\n",
    "while i < len(mot) :\n",
    "  print(mot[i])\n",
    "  i += 1"
   ]
  },
  {
   "attachments": {},
   "cell_type": "markdown",
   "metadata": {},
   "source": [
    "On remarque qu'une *chaîne de caractères* (ici `bonjour`) peut être parcourue par une boucle en Python, au même titre qu'un tableau."
   ]
  }
 ],
 "metadata": {
  "language_info": {
   "name": "python"
  },
  "orig_nbformat": 4
 },
 "nbformat": 4,
 "nbformat_minor": 2
}
